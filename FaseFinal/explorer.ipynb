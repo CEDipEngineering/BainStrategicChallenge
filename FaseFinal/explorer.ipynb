{
 "cells": [
  {
   "cell_type": "markdown",
   "metadata": {},
   "source": [
    "# Bain Strategic Challenge\n",
    "#### Part two\n",
    "\n",
    "Construct a complete strategic plan to meet the client's goal of reducing CO2e emissions from deforestation and agrobusiness in the south american Rainforests, specifically in the state of Pará, Brazil."
   ]
  },
  {
   "cell_type": "code",
   "execution_count": 2,
   "metadata": {},
   "outputs": [],
   "source": [
    "import pandas as pd\n",
    "import numpy as np\n",
    "import matplotlib.pyplot as plt\n",
    "import datetime"
   ]
  },
  {
   "cell_type": "markdown",
   "metadata": {},
   "source": [
    "## Initial analysis of new data\n",
    "\n",
    "For this new step in the process, our team has received some more data, which will be crucial in constructing the analysis our client needs."
   ]
  },
  {
   "cell_type": "code",
   "execution_count": 3,
   "metadata": {},
   "outputs": [
    {
     "name": "stderr",
     "output_type": "stream",
     "text": [
      "d:\\Python\\lib\\site-packages\\openpyxl\\worksheet\\header_footer.py:48: UserWarning: Cannot parse header or footer so it will be ignored\n",
      "  warn(\"\"\"Cannot parse header or footer so it will be ignored\"\"\")\n",
      "d:\\Python\\lib\\site-packages\\openpyxl\\worksheet\\header_footer.py:48: UserWarning: Cannot parse header or footer so it will be ignored\n",
      "  warn(\"\"\"Cannot parse header or footer so it will be ignored\"\"\")\n",
      "d:\\Python\\lib\\site-packages\\openpyxl\\worksheet\\header_footer.py:48: UserWarning: Cannot parse header or footer so it will be ignored\n",
      "  warn(\"\"\"Cannot parse header or footer so it will be ignored\"\"\")\n"
     ]
    }
   ],
   "source": [
    "# Load new datasets\n",
    "df_mic = pd.read_excel(\"City to microregion.xlsx\")\n",
    "df_hist = pd.read_excel(\"Historical deforestation rate.xlsx\")\n",
    "df_val = pd.read_excel(\"Value of agribusiness production.xlsx\")\n",
    "\n",
    "\n",
    "# Load previous dataset as well\n",
    "# Important to use utf-8, as 'açaí' will need a better encoding than default ascii\n",
    "with open('../historical-database.csv', 'r', encoding='utf-8') as f:\n",
    "    data = f.read()\n",
    "\n",
    "data = data.split('\\n')\n",
    "# Separating columns manually\n",
    "columns = data[0]\n",
    "data = data[1:-1]\n",
    "# Remove ending comma, then split by semi-colon\n",
    "columns = columns[:-1].split(';')\n",
    "\n",
    "# Transform dates\n",
    "def date_handler(date: pd.Timestamp):\n",
    "    return date.year - 1985\n",
    "\n",
    "# Retransform dates back to pd.Timestamp\n",
    "def date_reverse(date: int) -> pd.Timestamp:\n",
    "    return pd.Timestamp(date + 1985, 1, 1)\n",
    "\n",
    "# Simple example to check that date encoding is working\n",
    "# sample_date = pd.Timestamp(2015, 1, 1)\n",
    "# cvt_date = date_handler(sample_date)\n",
    "# print(f'{sample_date=}\\n{cvt_date=}\\n{date_reverse(cvt_date)=}')\n",
    "\n",
    "def process_line(line: str) -> list:\n",
    "    entries = line.split(';')\n",
    "    if ',' in entries[-1] and len(entries[-1])>1:\n",
    "        entries[-1] = float(entries[-1].replace(',','.',-1))\n",
    "    elif len(entries[-1]) <= 1:\n",
    "        entries[-1] = None\n",
    "    else:\n",
    "        entries[-1] = float(entries[-1])\n",
    "    # Convert to python-friendly date format.\n",
    "    entries[0] = datetime.datetime.strptime(entries[0],\"%d/%m/%Y\")\n",
    "    return entries\n",
    "\n",
    "data = list(map(process_line, data))\n",
    "df_orig = pd.DataFrame(data=data, columns=columns)\n",
    "# df_orig['year'] = df_orig['year'].apply(date_handler)\n",
    "# df_orig = df_orig.drop(df_orig[df_orig['year']<0].index, axis = 0)\n",
    "type_dict = [(val, tip) for tip, val in df_orig[['product_type', 'product']].value_counts().index.to_list() if val != \"Others\"]\n",
    "type_dict.append(('Permanent-other', 'permanent'))\n",
    "type_dict.append(('Temporary-other', 'temporary'))\n",
    "type_dict = {prod: tip for prod, tip in type_dict}\n",
    "df_orig.loc[(df_orig['product_type'] == \"permanent\") & (df_orig['product'] == 'Others'), 'product'] = 'Permanent-other'\n",
    "df_orig.loc[(df_orig['product_type'] == \"temporary\") & (df_orig['product'] == 'Others'), 'product'] = 'Temporary-other'\n",
    "df_orig = df_orig.drop('product_type', axis=1)\n",
    "df = df_orig.copy(deep=True)\n",
    "df_orig;"
   ]
  },
  {
   "cell_type": "markdown",
   "metadata": {},
   "source": [
    "## Combining data\n",
    "\n",
    "The new data comes in several different tables, and must be combined by matching values that uniquely identify the data in question (most often a unique city code).\n"
   ]
  },
  {
   "cell_type": "code",
   "execution_count": 4,
   "metadata": {},
   "outputs": [],
   "source": [
    "# Calculate the mean deforestation for the three years in question, as requested\n",
    "df_hist[\"Deforest_Mean\"] = df_hist[['Deforestation area 2017 (Km2)', 'Deforestation area 2018 (Km2)', 'Deforestation area 2019 (Km2)']].sum(axis=1)*(1/3)\n",
    "df_hist[\"Deforest_Rate\"] = df_hist[\"Deforest_Mean\"]/df_hist['Total city area (Km2)']\n",
    "df_hist = df_hist.drop(['Deforestation area 2017 (Km2)', 'Deforestation area 2018 (Km2)', 'Deforestation area 2019 (Km2)'], axis=1)\n",
    "\n",
    "# Merge microregions of each city with deforestation data\n",
    "df_mic_hist = df_mic.merge(df_hist, on=['City ID_CodIbge', 'City'], how='right')\n",
    "\n",
    "# Group average deforestation by mciroregion\n",
    "df_avg_by_mic = df_mic_hist[['Microregion','Total city area (Km2)', 'Deforest_Rate']].groupby('Microregion').sum().reset_index().drop('Total city area (Km2)', axis=1)\n",
    "\n",
    "# Group microregions on original dataset, to get destinated_area for each product by microregion\n",
    "df_mic_prod_area_by_year = df_mic.merge(df_orig, on='city_code', how='right')[['year', 'Microregion', 'product', 'destinated_area']].groupby(['year', 'Microregion', 'product']).sum().reset_index()\n",
    "\n",
    "# Separate latest year only (2017)\n",
    "df_mic_prod_area_by_year = df_mic_prod_area_by_year.loc[df_mic_prod_area_by_year['year'] == '2017-01-01'].reset_index().drop('index',axis=1)\n",
    "df_mic_prod_area_by_year = df_mic_prod_area_by_year.rename({'product':'Product'}, axis=1)\n",
    "\n",
    "# Merge microregions and value produced by each product\n",
    "df_mic_prod_value_by_year = df_mic.merge(df_val, on='City ID_CodIbge', how='right')[['Microregion', 'Product', 'Production value (R$ thousands)']].groupby(['Microregion', 'Product']).sum().reset_index()\n",
    "\n",
    "# Final merge, create dataframe with all necessary columns, except productivity\n",
    "val_by_area = df_mic_prod_value_by_year.merge(df_mic_prod_area_by_year, on=['Microregion', 'Product'], how = 'outer')\n",
    "\n",
    "# Add productivity through simple calculations.\n",
    "val_by_area = val_by_area.dropna(axis=0).drop('year',axis=1)\n",
    "val_by_area.loc[val_by_area['destinated_area'] == 0, 'Production value (R$ thousands)'] = 0\n",
    "val_by_area.loc[val_by_area['destinated_area'] == 0, 'destinated_area'] = 1\n",
    "val_by_area['Productivity'] = val_by_area['Production value (R$ thousands)']/val_by_area['destinated_area']\n",
    "val_by_area = val_by_area.drop(['Production value (R$ thousands)'], axis=1)\n"
   ]
  },
  {
   "cell_type": "code",
   "execution_count": 5,
   "metadata": {},
   "outputs": [
    {
     "data": {
      "text/html": [
       "<div>\n",
       "<style scoped>\n",
       "    .dataframe tbody tr th:only-of-type {\n",
       "        vertical-align: middle;\n",
       "    }\n",
       "\n",
       "    .dataframe tbody tr th {\n",
       "        vertical-align: top;\n",
       "    }\n",
       "\n",
       "    .dataframe thead th {\n",
       "        text-align: right;\n",
       "    }\n",
       "</style>\n",
       "<table border=\"1\" class=\"dataframe\">\n",
       "  <thead>\n",
       "    <tr style=\"text-align: right;\">\n",
       "      <th></th>\n",
       "      <th>Microregion</th>\n",
       "      <th>Deforest_Rate</th>\n",
       "      <th>Product</th>\n",
       "      <th>destinated_area</th>\n",
       "      <th>Productivity</th>\n",
       "      <th>Ranking</th>\n",
       "    </tr>\n",
       "  </thead>\n",
       "  <tbody>\n",
       "    <tr>\n",
       "      <th>0</th>\n",
       "      <td>Almeirim</td>\n",
       "      <td>0.002108</td>\n",
       "      <td>Açaí</td>\n",
       "      <td>378.0</td>\n",
       "      <td>20.261905</td>\n",
       "      <td>1</td>\n",
       "    </tr>\n",
       "    <tr>\n",
       "      <th>1</th>\n",
       "      <td>Almeirim</td>\n",
       "      <td>0.002108</td>\n",
       "      <td>Beans</td>\n",
       "      <td>105.0</td>\n",
       "      <td>1.323810</td>\n",
       "      <td>3</td>\n",
       "    </tr>\n",
       "    <tr>\n",
       "      <th>2</th>\n",
       "      <td>Almeirim</td>\n",
       "      <td>0.002108</td>\n",
       "      <td>Cassava</td>\n",
       "      <td>580.0</td>\n",
       "      <td>5.727586</td>\n",
       "      <td>3</td>\n",
       "    </tr>\n",
       "  </tbody>\n",
       "</table>\n",
       "</div>"
      ],
      "text/plain": [
       "  Microregion  Deforest_Rate  Product  destinated_area  Productivity  Ranking\n",
       "0    Almeirim       0.002108     Açaí            378.0     20.261905        1\n",
       "1    Almeirim       0.002108    Beans            105.0      1.323810        3\n",
       "2    Almeirim       0.002108  Cassava            580.0      5.727586        3"
      ]
     },
     "execution_count": 5,
     "metadata": {},
     "output_type": "execute_result"
    }
   ],
   "source": [
    "df_avg_productivity = df_avg_by_mic.merge(val_by_area, on = 'Microregion', how='left')\n",
    "\n",
    "def apply_labels(x):\n",
    "    if x in ['Livestock', 'Soy']: \n",
    "        return 5    \n",
    "    elif x in ['Sorghum', 'Corn']: \n",
    "        return 4 \n",
    "    elif x in ['Beans', 'Cassava', 'Rice']: \n",
    "        return 3\n",
    "    elif x in ['Palm oil', 'Açaí', 'Cocoa']:\n",
    "        return 1\n",
    "    else: \n",
    "        return 2\n",
    "\n",
    "# :(\n",
    "df_avg_productivity['Ranking'] = df_avg_productivity['Product'].apply(apply_labels)\n",
    "df_avg_productivity.head(3)"
   ]
  },
  {
   "cell_type": "markdown",
   "metadata": {},
   "source": [
    "At this point, all the necessary information that was requested has been aggregated and cleaned as best as possible. Now, all that needs to be done is to normalize them from 0 to 10 (as requested), and then calculate the score using the supplied weight matrix."
   ]
  },
  {
   "cell_type": "markdown",
   "metadata": {},
   "source": [
    "# Normalizing columns and calculate score\n",
    "\n",
    "Priorization Matrix"
   ]
  },
  {
   "cell_type": "code",
   "execution_count": 6,
   "metadata": {},
   "outputs": [
    {
     "data": {
      "text/html": [
       "<div>\n",
       "<style scoped>\n",
       "    .dataframe tbody tr th:only-of-type {\n",
       "        vertical-align: middle;\n",
       "    }\n",
       "\n",
       "    .dataframe tbody tr th {\n",
       "        vertical-align: top;\n",
       "    }\n",
       "\n",
       "    .dataframe thead th {\n",
       "        text-align: right;\n",
       "    }\n",
       "</style>\n",
       "<table border=\"1\" class=\"dataframe\">\n",
       "  <thead>\n",
       "    <tr style=\"text-align: right;\">\n",
       "      <th></th>\n",
       "      <th>Deforest_Rate</th>\n",
       "      <th>destinated_area</th>\n",
       "      <th>Productivity</th>\n",
       "      <th>Ranking</th>\n",
       "    </tr>\n",
       "  </thead>\n",
       "  <tbody>\n",
       "    <tr>\n",
       "      <th>count</th>\n",
       "      <td>220.000000</td>\n",
       "      <td>220.000000</td>\n",
       "      <td>220.000000</td>\n",
       "      <td>220.000000</td>\n",
       "    </tr>\n",
       "    <tr>\n",
       "      <th>mean</th>\n",
       "      <td>1.819090</td>\n",
       "      <td>0.345938</td>\n",
       "      <td>0.233018</td>\n",
       "      <td>4.000000</td>\n",
       "    </tr>\n",
       "    <tr>\n",
       "      <th>std</th>\n",
       "      <td>2.141168</td>\n",
       "      <td>1.306543</td>\n",
       "      <td>0.724511</td>\n",
       "      <td>2.973244</td>\n",
       "    </tr>\n",
       "    <tr>\n",
       "      <th>min</th>\n",
       "      <td>0.000000</td>\n",
       "      <td>0.000000</td>\n",
       "      <td>0.000000</td>\n",
       "      <td>0.000000</td>\n",
       "    </tr>\n",
       "    <tr>\n",
       "      <th>25%</th>\n",
       "      <td>0.527050</td>\n",
       "      <td>0.000000</td>\n",
       "      <td>0.000000</td>\n",
       "      <td>0.000000</td>\n",
       "    </tr>\n",
       "    <tr>\n",
       "      <th>50%</th>\n",
       "      <td>1.004050</td>\n",
       "      <td>0.002162</td>\n",
       "      <td>0.071554</td>\n",
       "      <td>4.000000</td>\n",
       "    </tr>\n",
       "    <tr>\n",
       "      <th>75%</th>\n",
       "      <td>2.490429</td>\n",
       "      <td>0.035480</td>\n",
       "      <td>0.228074</td>\n",
       "      <td>6.000000</td>\n",
       "    </tr>\n",
       "    <tr>\n",
       "      <th>max</th>\n",
       "      <td>9.947457</td>\n",
       "      <td>9.999997</td>\n",
       "      <td>10.000000</td>\n",
       "      <td>8.000000</td>\n",
       "    </tr>\n",
       "  </tbody>\n",
       "</table>\n",
       "</div>"
      ],
      "text/plain": [
       "       Deforest_Rate  destinated_area  Productivity     Ranking\n",
       "count     220.000000       220.000000    220.000000  220.000000\n",
       "mean        1.819090         0.345938      0.233018    4.000000\n",
       "std         2.141168         1.306543      0.724511    2.973244\n",
       "min         0.000000         0.000000      0.000000    0.000000\n",
       "25%         0.527050         0.000000      0.000000    0.000000\n",
       "50%         1.004050         0.002162      0.071554    4.000000\n",
       "75%         2.490429         0.035480      0.228074    6.000000\n",
       "max         9.947457         9.999997     10.000000    8.000000"
      ]
     },
     "execution_count": 6,
     "metadata": {},
     "output_type": "execute_result"
    }
   ],
   "source": [
    "# Normalize to 0-1 (subtract minimum, divide by maximum) then multiply by 10\n",
    "df_avg_productivity['Deforest_Rate'] = (df_avg_productivity['Deforest_Rate']-df_avg_productivity['Deforest_Rate'].min())/df_avg_productivity['Deforest_Rate'].max()*10\n",
    "df_avg_productivity['destinated_area'] = (df_avg_productivity['destinated_area']-df_avg_productivity['destinated_area'].min())/df_avg_productivity['destinated_area'].max()*10\n",
    "df_avg_productivity['Productivity'] = (df_avg_productivity['Productivity']-df_avg_productivity['Productivity'].min())/df_avg_productivity['Productivity'].max()*10\n",
    "df_avg_productivity['Ranking'] = (df_avg_productivity['Ranking']-df_avg_productivity['Ranking'].min())/df_avg_productivity['Ranking'].max()*10\n",
    "df_avg_productivity.describe()"
   ]
  },
  {
   "cell_type": "code",
   "execution_count": 7,
   "metadata": {},
   "outputs": [],
   "source": [
    "# Weight matrix\n",
    "weights = {\n",
    "'Deforest_Rate' : 0.25,\n",
    "'destinated_area': 0.4,\n",
    "'Productivity': 0.1,\n",
    "'Ranking': 0.25\n",
    "}\n",
    "\n",
    "# Aggregate columns by sum of values*weight\n",
    "s = np.zeros(shape=(df_avg_productivity.shape[0],))\n",
    "for k, v in weights.items():\n",
    "    s += df_avg_productivity[k]*v"
   ]
  },
  {
   "cell_type": "markdown",
   "metadata": {},
   "source": [
    "Now that the score has been fully calculated for each available pair of microregion-product, we order by it and gather critical data points."
   ]
  },
  {
   "cell_type": "code",
   "execution_count": 8,
   "metadata": {},
   "outputs": [
    {
     "data": {
      "text/html": [
       "<div>\n",
       "<style scoped>\n",
       "    .dataframe tbody tr th:only-of-type {\n",
       "        vertical-align: middle;\n",
       "    }\n",
       "\n",
       "    .dataframe tbody tr th {\n",
       "        vertical-align: top;\n",
       "    }\n",
       "\n",
       "    .dataframe thead th {\n",
       "        text-align: right;\n",
       "    }\n",
       "</style>\n",
       "<table border=\"1\" class=\"dataframe\">\n",
       "  <thead>\n",
       "    <tr style=\"text-align: right;\">\n",
       "      <th></th>\n",
       "      <th>Microregion</th>\n",
       "      <th>Deforest_Rate</th>\n",
       "      <th>Product</th>\n",
       "      <th>destinated_area</th>\n",
       "      <th>Productivity</th>\n",
       "      <th>Ranking</th>\n",
       "      <th>Score</th>\n",
       "    </tr>\n",
       "  </thead>\n",
       "  <tbody>\n",
       "    <tr>\n",
       "      <th>15</th>\n",
       "      <td>Altamira</td>\n",
       "      <td>9.947457</td>\n",
       "      <td>Livestock</td>\n",
       "      <td>8.103128</td>\n",
       "      <td>0.152626</td>\n",
       "      <td>8.0</td>\n",
       "      <td>7.743378</td>\n",
       "    </tr>\n",
       "  </tbody>\n",
       "</table>\n",
       "</div>"
      ],
      "text/plain": [
       "   Microregion  Deforest_Rate    Product  destinated_area  Productivity  \\\n",
       "15    Altamira       9.947457  Livestock         8.103128      0.152626   \n",
       "\n",
       "    Ranking     Score  \n",
       "15      8.0  7.743378  "
      ]
     },
     "execution_count": 8,
     "metadata": {},
     "output_type": "execute_result"
    }
   ],
   "source": [
    "# Store and show result\n",
    "df_avg_productivity['Score'] = s\n",
    "df_avg_productivity.sort_values('Score', ascending=False).head(1)"
   ]
  },
  {
   "cell_type": "code",
   "execution_count": 9,
   "metadata": {},
   "outputs": [
    {
     "data": {
      "text/html": [
       "<div>\n",
       "<style scoped>\n",
       "    .dataframe tbody tr th:only-of-type {\n",
       "        vertical-align: middle;\n",
       "    }\n",
       "\n",
       "    .dataframe tbody tr th {\n",
       "        vertical-align: top;\n",
       "    }\n",
       "\n",
       "    .dataframe thead th {\n",
       "        text-align: right;\n",
       "    }\n",
       "</style>\n",
       "<table border=\"1\" class=\"dataframe\">\n",
       "  <thead>\n",
       "    <tr style=\"text-align: right;\">\n",
       "      <th></th>\n",
       "      <th>Microregion</th>\n",
       "      <th>Deforest_Rate</th>\n",
       "      <th>Product</th>\n",
       "      <th>destinated_area</th>\n",
       "      <th>Productivity</th>\n",
       "      <th>Ranking</th>\n",
       "      <th>Score</th>\n",
       "    </tr>\n",
       "  </thead>\n",
       "  <tbody>\n",
       "    <tr>\n",
       "      <th>179</th>\n",
       "      <td>Santarém</td>\n",
       "      <td>3.890462</td>\n",
       "      <td>Soy</td>\n",
       "      <td>0.189715</td>\n",
       "      <td>0.149734</td>\n",
       "      <td>8.0</td>\n",
       "      <td>3.063475</td>\n",
       "    </tr>\n",
       "    <tr>\n",
       "      <th>129</th>\n",
       "      <td>Paragominas</td>\n",
       "      <td>2.490429</td>\n",
       "      <td>Soy</td>\n",
       "      <td>1.028709</td>\n",
       "      <td>0.191287</td>\n",
       "      <td>8.0</td>\n",
       "      <td>3.053220</td>\n",
       "    </tr>\n",
       "  </tbody>\n",
       "</table>\n",
       "</div>"
      ],
      "text/plain": [
       "     Microregion  Deforest_Rate Product  destinated_area  Productivity  \\\n",
       "179     Santarém       3.890462     Soy         0.189715      0.149734   \n",
       "129  Paragominas       2.490429     Soy         1.028709      0.191287   \n",
       "\n",
       "     Ranking     Score  \n",
       "179      8.0  3.063475  \n",
       "129      8.0  3.053220  "
      ]
     },
     "execution_count": 9,
     "metadata": {},
     "output_type": "execute_result"
    }
   ],
   "source": [
    "# Remove previously selected values\n",
    "df_no_altamira = df_avg_productivity.loc[(df_avg_productivity['Microregion'] != 'Altamira')&(df_avg_productivity['Product'] != 'Livestock')].sort_values('Score', ascending=False)\n",
    "df_no_altamira.head(2)"
   ]
  },
  {
   "cell_type": "code",
   "execution_count": 10,
   "metadata": {},
   "outputs": [
    {
     "data": {
      "text/html": [
       "<div>\n",
       "<style scoped>\n",
       "    .dataframe tbody tr th:only-of-type {\n",
       "        vertical-align: middle;\n",
       "    }\n",
       "\n",
       "    .dataframe tbody tr th {\n",
       "        vertical-align: top;\n",
       "    }\n",
       "\n",
       "    .dataframe thead th {\n",
       "        text-align: right;\n",
       "    }\n",
       "</style>\n",
       "<table border=\"1\" class=\"dataframe\">\n",
       "  <thead>\n",
       "    <tr style=\"text-align: right;\">\n",
       "      <th></th>\n",
       "      <th>Microregion</th>\n",
       "      <th>Deforest_Rate</th>\n",
       "      <th>Product</th>\n",
       "      <th>destinated_area</th>\n",
       "      <th>Productivity</th>\n",
       "      <th>Ranking</th>\n",
       "      <th>Score</th>\n",
       "    </tr>\n",
       "  </thead>\n",
       "  <tbody>\n",
       "    <tr>\n",
       "      <th>104</th>\n",
       "      <td>Itaituba</td>\n",
       "      <td>3.604594</td>\n",
       "      <td>Corn</td>\n",
       "      <td>0.042275</td>\n",
       "      <td>0.077964</td>\n",
       "      <td>6.0</td>\n",
       "      <td>2.425855</td>\n",
       "    </tr>\n",
       "  </tbody>\n",
       "</table>\n",
       "</div>"
      ],
      "text/plain": [
       "    Microregion  Deforest_Rate Product  destinated_area  Productivity  \\\n",
       "104    Itaituba       3.604594    Corn         0.042275      0.077964   \n",
       "\n",
       "     Ranking     Score  \n",
       "104      6.0  2.425855  "
      ]
     },
     "execution_count": 10,
     "metadata": {},
     "output_type": "execute_result"
    }
   ],
   "source": [
    "# Remove previously selected values\n",
    "df_no_santa = df_no_altamira.loc[(df_no_altamira['Microregion'] != 'Santarém')&(df_no_altamira['Product'] != 'Soy')&(df_no_altamira['Microregion'] != 'Paragominas')].sort_values('Score', ascending=False)\n",
    "df_no_santa.head(1)"
   ]
  },
  {
   "cell_type": "markdown",
   "metadata": {},
   "source": [
    "Above we can see 4 very high scoring pairs of microregion-product. These will be our selected 'where-to-play' subjects.\n",
    "\n",
    "Below, we try to get a better overall picture of the problem, by graphing the 10 worst microregions and 10 worst products."
   ]
  },
  {
   "cell_type": "code",
   "execution_count": 25,
   "metadata": {},
   "outputs": [
    {
     "name": "stderr",
     "output_type": "stream",
     "text": [
      "C:\\Users\\cadud\\AppData\\Local\\Temp\\ipykernel_1352\\2076651247.py:10: UserWarning: Matplotlib is currently using module://matplotlib_inline.backend_inline, which is a non-GUI backend, so cannot show the figure.\n",
      "  fig.show();\n"
     ]
    },
    {
     "data": {
      "image/png": "[encoded data removed]",
      "text/plain": [
       "<Figure size 720x360 with 1 Axes>"
      ]
     },
     "metadata": {
      "needs_background": "light"
     },
     "output_type": "display_data"
    }
   ],
   "source": [
    "# Select microregions by sum of score\n",
    "score_reg = np.array(df_avg_productivity[['Microregion', 'Score']].groupby('Microregion').sum().sort_values('Score', ascending=False).head(10).reset_index())\n",
    "fig = plt.figure(figsize=(10,5))\n",
    "ax = fig.add_subplot(111)\n",
    "ax.barh(range(len(score_reg)), list(reversed(score_reg[:,1])))\n",
    "ax.set_yticks(range(len(score_reg)), list(reversed(score_reg[:,0])))\n",
    "ax.set_xlabel('Cumulative Score')\n",
    "ax.set_title('Highest Impact Microregions')\n",
    "ax.set_xlim((15,40))\n",
    "fig.show();"
   ]
  },
  {
   "cell_type": "markdown",
   "metadata": {},
   "source": [
    "As can be seen in the graph above, Altamira is by far the most problematic region in this dataset, as it beats the second worst by almost a factor of two."
   ]
  },
  {
   "cell_type": "code",
   "execution_count": 24,
   "metadata": {},
   "outputs": [
    {
     "name": "stderr",
     "output_type": "stream",
     "text": [
      "C:\\Users\\cadud\\AppData\\Local\\Temp\\ipykernel_1352\\1770622283.py:10: UserWarning: Matplotlib is currently using module://matplotlib_inline.backend_inline, which is a non-GUI backend, so cannot show the figure.\n",
      "  fig.show();\n"
     ]
    },
    {
     "data": {
      "image/png": "[encoded data removed]",
      "text/plain": [
       "<Figure size 720x360 with 1 Axes>"
      ]
     },
     "metadata": {
      "needs_background": "light"
     },
     "output_type": "display_data"
    }
   ],
   "source": [
    "# Select products by sum of score\n",
    "score_prod = np.array(df_avg_productivity[['Product', 'Score']].groupby('Product').sum().sort_values('Score', ascending=False).head(10).reset_index())\n",
    "fig = plt.figure(figsize=(10,5))\n",
    "ax = fig.add_subplot(111)\n",
    "ax.barh(range(len(score_prod)), list(reversed(score_prod[:,1])))\n",
    "ax.set_yticks(range(len(score_prod)), list(reversed(score_prod[:,0])))\n",
    "ax.set_xlabel('Cumulative Score')\n",
    "ax.set_title('Highest Impact Products')\n",
    "ax.set_xlim((8,85))\n",
    "fig.show();"
   ]
  },
  {
   "cell_type": "markdown",
   "metadata": {},
   "source": [
    "And in the product impact graph, Livestock is also a very problematic product-type. Soy is its closest competitor, and lagging close behind that is Corn."
   ]
  }
 ],
 "metadata": {
  "interpreter": {
   "hash": "2469a70536e4d2335a2ea8907942d0699c37342a371ac185bdb5b0aa6f073890"
  },
  "kernelspec": {
   "display_name": "Python 3.10.2 64-bit",
   "language": "python",
   "name": "python3"
  },
  "language_info": {
   "codemirror_mode": {
    "name": "ipython",
    "version": 3
   },
   "file_extension": ".py",
   "mimetype": "text/x-python",
   "name": "python",
   "nbconvert_exporter": "python",
   "pygments_lexer": "ipython3",
   "version": "3.10.2"
  },
  "orig_nbformat": 4
 },
 "nbformat": 4,
 "nbformat_minor": 2
}

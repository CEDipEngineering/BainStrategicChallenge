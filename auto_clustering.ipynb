{
 "cells": [
  {
   "cell_type": "markdown",
   "metadata": {},
   "source": [
    "# Auto clustering"
   ]
  },
  {
   "cell_type": "code",
   "execution_count": 10,
   "metadata": {},
   "outputs": [],
   "source": [
    "%matplotlib inline\n",
    "import pandas as pd\n",
    "import datetime\n",
    "import matplotlib.pyplot as plt\n",
    "import numpy as np\n",
    "from sklearn.model_selection import train_test_split\n",
    "from sklearn.pipeline import Pipeline\n",
    "from sklearn.preprocessing import OrdinalEncoder, OneHotEncoder, StandardScaler\n",
    "from mpl_toolkits.mplot3d import Axes3D\n",
    "from sklearn.compose import ColumnTransformer\n",
    "from sklearn.metrics import make_scorer\n",
    "from sklearn.impute import SimpleImputer\n",
    "from sklearn.decomposition import PCA\n",
    "from sklearn.manifold import TSNE\n",
    "from tensorflow.keras.utils import to_categorical\n",
    "import tensorflow as tf\n",
    "from tensorflow.keras.layers import *\n",
    "from tensorflow.keras.backend import abs as KERAS_ABS\n",
    "from sklearn.cluster import KMeans\n",
    "\n",
    "# Set global random seed for numpy and sklearn for reproducibility.\n",
    "np.random.seed(42)"
   ]
  },
  {
   "cell_type": "code",
   "execution_count": 11,
   "metadata": {},
   "outputs": [
    {
     "data": {
      "text/html": [
       "<div>\n",
       "<style scoped>\n",
       "    .dataframe tbody tr th:only-of-type {\n",
       "        vertical-align: middle;\n",
       "    }\n",
       "\n",
       "    .dataframe tbody tr th {\n",
       "        vertical-align: top;\n",
       "    }\n",
       "\n",
       "    .dataframe thead th {\n",
       "        text-align: right;\n",
       "    }\n",
       "</style>\n",
       "<table border=\"1\" class=\"dataframe\">\n",
       "  <thead>\n",
       "    <tr style=\"text-align: right;\">\n",
       "      <th></th>\n",
       "      <th>year</th>\n",
       "      <th>city_code</th>\n",
       "      <th>product_type</th>\n",
       "      <th>product</th>\n",
       "      <th>destinated_area</th>\n",
       "    </tr>\n",
       "  </thead>\n",
       "  <tbody>\n",
       "    <tr>\n",
       "      <th>0</th>\n",
       "      <td>0</td>\n",
       "      <td>960b4f2c94a2fb2c</td>\n",
       "      <td>temporary</td>\n",
       "      <td>Others</td>\n",
       "      <td>0.0000</td>\n",
       "    </tr>\n",
       "    <tr>\n",
       "      <th>1</th>\n",
       "      <td>0</td>\n",
       "      <td>746cc42bfb8f6b62</td>\n",
       "      <td>temporary</td>\n",
       "      <td>Others</td>\n",
       "      <td>0.0000</td>\n",
       "    </tr>\n",
       "    <tr>\n",
       "      <th>2</th>\n",
       "      <td>0</td>\n",
       "      <td>6cce2bf873870afc</td>\n",
       "      <td>temporary</td>\n",
       "      <td>Others</td>\n",
       "      <td>0.0000</td>\n",
       "    </tr>\n",
       "    <tr>\n",
       "      <th>3</th>\n",
       "      <td>0</td>\n",
       "      <td>4de42e351006a2ae</td>\n",
       "      <td>temporary</td>\n",
       "      <td>Others</td>\n",
       "      <td>0.0000</td>\n",
       "    </tr>\n",
       "    <tr>\n",
       "      <th>4</th>\n",
       "      <td>0</td>\n",
       "      <td>5b6072f8f6d37acc</td>\n",
       "      <td>temporary</td>\n",
       "      <td>Others</td>\n",
       "      <td>0.0000</td>\n",
       "    </tr>\n",
       "    <tr>\n",
       "      <th>...</th>\n",
       "      <td>...</td>\n",
       "      <td>...</td>\n",
       "      <td>...</td>\n",
       "      <td>...</td>\n",
       "      <td>...</td>\n",
       "    </tr>\n",
       "    <tr>\n",
       "      <th>73739</th>\n",
       "      <td>39</td>\n",
       "      <td>74d75dde6dc4a5ec</td>\n",
       "      <td>pasture</td>\n",
       "      <td>Livestock</td>\n",
       "      <td>150866.5644</td>\n",
       "    </tr>\n",
       "    <tr>\n",
       "      <th>73740</th>\n",
       "      <td>40</td>\n",
       "      <td>74d75dde6dc4a5ec</td>\n",
       "      <td>pasture</td>\n",
       "      <td>Livestock</td>\n",
       "      <td>152446.3960</td>\n",
       "    </tr>\n",
       "    <tr>\n",
       "      <th>73741</th>\n",
       "      <td>41</td>\n",
       "      <td>74d75dde6dc4a5ec</td>\n",
       "      <td>pasture</td>\n",
       "      <td>Livestock</td>\n",
       "      <td>154681.0205</td>\n",
       "    </tr>\n",
       "    <tr>\n",
       "      <th>73742</th>\n",
       "      <td>42</td>\n",
       "      <td>74d75dde6dc4a5ec</td>\n",
       "      <td>pasture</td>\n",
       "      <td>Livestock</td>\n",
       "      <td>164706.2778</td>\n",
       "    </tr>\n",
       "    <tr>\n",
       "      <th>73743</th>\n",
       "      <td>43</td>\n",
       "      <td>74d75dde6dc4a5ec</td>\n",
       "      <td>pasture</td>\n",
       "      <td>Livestock</td>\n",
       "      <td>165220.8728</td>\n",
       "    </tr>\n",
       "  </tbody>\n",
       "</table>\n",
       "<p>73744 rows × 5 columns</p>\n",
       "</div>"
      ],
      "text/plain": [
       "       year         city_code product_type    product  destinated_area\n",
       "0         0  960b4f2c94a2fb2c    temporary     Others           0.0000\n",
       "1         0  746cc42bfb8f6b62    temporary     Others           0.0000\n",
       "2         0  6cce2bf873870afc    temporary     Others           0.0000\n",
       "3         0  4de42e351006a2ae    temporary     Others           0.0000\n",
       "4         0  5b6072f8f6d37acc    temporary     Others           0.0000\n",
       "...     ...               ...          ...        ...              ...\n",
       "73739    39  74d75dde6dc4a5ec      pasture  Livestock      150866.5644\n",
       "73740    40  74d75dde6dc4a5ec      pasture  Livestock      152446.3960\n",
       "73741    41  74d75dde6dc4a5ec      pasture  Livestock      154681.0205\n",
       "73742    42  74d75dde6dc4a5ec      pasture  Livestock      164706.2778\n",
       "73743    43  74d75dde6dc4a5ec      pasture  Livestock      165220.8728\n",
       "\n",
       "[73744 rows x 5 columns]"
      ]
     },
     "execution_count": 11,
     "metadata": {},
     "output_type": "execute_result"
    }
   ],
   "source": [
    "# Important to use utf-8, as 'açaí' will need a better encoding than default ascii\n",
    "with open('historical-database.csv', 'r', encoding='utf-8') as f:\n",
    "    data = f.read()\n",
    "\n",
    "data = data.split('\\n')\n",
    "# Separating columns manually\n",
    "columns = data[0]\n",
    "data = data[1:-1]\n",
    "# Remove ending comma, then split by semi-colon\n",
    "columns = columns[:-1].split(';')\n",
    "\n",
    "# Transform dates\n",
    "def date_handler(date: pd.Timestamp):\n",
    "    return date.year - 1974\n",
    "\n",
    "def process_line(line: str) -> list:\n",
    "    entries = line.split(';')\n",
    "    if ',' in entries[-1] and len(entries[-1])>1:\n",
    "        entries[-1] = float(entries[-1].replace(',','.',-1))\n",
    "    elif len(entries[-1]) <= 1:\n",
    "        entries[-1] = None\n",
    "    else:\n",
    "        entries[-1] = float(entries[-1])\n",
    "    # Convert to python-friendly date format.\n",
    "    entries[0] = datetime.datetime.strptime(entries[0],\"%d/%m/%Y\")\n",
    "    return entries\n",
    "data = list(map(process_line, data))\n",
    "df = pd.DataFrame(data=data, columns=columns)\n",
    "df['year'] = df['year'].apply(date_handler)\n",
    "df"
   ]
  },
  {
   "cell_type": "code",
   "execution_count": 12,
   "metadata": {},
   "outputs": [
    {
     "data": {
      "text/plain": [
       "(73744, 158)"
      ]
     },
     "execution_count": 12,
     "metadata": {},
     "output_type": "execute_result"
    }
   ],
   "source": [
    "oh_enc = OneHotEncoder(handle_unknown='ignore')\n",
    "enc = oh_enc.fit_transform(df.drop('destinated_area', axis=1)[['product_type', 'product', 'city_code']]).toarray()\n",
    "enc.shape"
   ]
  },
  {
   "cell_type": "code",
   "execution_count": 27,
   "metadata": {},
   "outputs": [
    {
     "name": "stdout",
     "output_type": "stream",
     "text": [
      "3\n"
     ]
    },
    {
     "name": "stderr",
     "output_type": "stream",
     "text": [
      "C:\\Users\\cadud\\AppData\\Local\\Temp\\ipykernel_912\\461586236.py:22: UserWarning: Matplotlib is currently using module://matplotlib_inline.backend_inline, which is a non-GUI backend, so cannot show the figure.\n",
      "  fig.show()\n"
     ]
    },
    {
     "data": {
      "image/png": "[encoded data removed]",
      "text/plain": [
       "<Figure size 864x864 with 1 Axes>"
      ]
     },
     "metadata": {
      "needs_background": "light"
     },
     "output_type": "display_data"
    }
   ],
   "source": [
    "# Try to find one cluster for each product_type\n",
    "n_types = len(list(df['product_type'].value_counts()))\n",
    "print(n_types)\n",
    "clusterize_by_type = KMeans(n_clusters=n_types, max_iter=1000)\n",
    "X = clusterize_by_type.fit_transform(enc)\n",
    "classes = clusterize_by_type.labels_\n",
    "labels = list(set(classes))\n",
    "colors = 'b g r c m y k'.split(' ')\n",
    "\n",
    "# Reduce dimension if necessary to visualize\n",
    "if X.shape[1] > 2:\n",
    "    pca = PCA(2)\n",
    "    X = pca.fit_transform(X)\n",
    "fig = plt.figure(figsize=(12,12))\n",
    "ax = fig.add_subplot(111)\n",
    "cats = [[] for _ in labels]\n",
    "for p, c in zip(X, classes):\n",
    "    cats[c].append(p)\n",
    "cats = [np.array(a) for a in cats]\n",
    "for i, e in enumerate(cats):\n",
    "    ax.scatter(e[:,0], e[:,1], color = colors[i%len(colors)])\n",
    "fig.show()"
   ]
  },
  {
   "cell_type": "code",
   "execution_count": 33,
   "metadata": {},
   "outputs": [
    {
     "name": "stderr",
     "output_type": "stream",
     "text": [
      "C:\\Users\\cadud\\AppData\\Local\\Temp\\ipykernel_912\\3869613241.py:21: UserWarning: Matplotlib is currently using module://matplotlib_inline.backend_inline, which is a non-GUI backend, so cannot show the figure.\n",
      "  fig.show()\n"
     ]
    },
    {
     "data": {
      "image/png": "[encoded data removed]",
      "text/plain": [
       "<Figure size 864x864 with 1 Axes>"
      ]
     },
     "metadata": {
      "needs_background": "light"
     },
     "output_type": "display_data"
    }
   ],
   "source": [
    "# Try to find five cluster (Number cherry-picked after first visualization)\n",
    "n_types = 7\n",
    "clusterize_by_type = KMeans(n_clusters=n_types, max_iter=1000)\n",
    "X = clusterize_by_type.fit_transform(enc)\n",
    "classes = clusterize_by_type.labels_\n",
    "labels = list(set(classes))\n",
    "colors = 'b g r c m y k'.split(' ')\n",
    "\n",
    "# Reduce dimension if necessary to visualize\n",
    "if X.shape[1] > 2:\n",
    "    pca = PCA(2)\n",
    "    X = pca.fit_transform(X)\n",
    "fig = plt.figure(figsize=(12,12))\n",
    "ax = fig.add_subplot(111)\n",
    "cats = [[] for _ in labels]\n",
    "for p, c in zip(X, classes):\n",
    "    cats[c].append(p)\n",
    "cats = [np.array(a) for a in cats]\n",
    "for i, e in enumerate(cats):\n",
    "    ax.scatter(e[:,0], e[:,1], color = colors[i%len(colors)])\n",
    "fig.show()"
   ]
  }
 ],
 "metadata": {
  "interpreter": {
   "hash": "2469a70536e4d2335a2ea8907942d0699c37342a371ac185bdb5b0aa6f073890"
  },
  "kernelspec": {
   "display_name": "Python 3.10.2 64-bit",
   "language": "python",
   "name": "python3"
  },
  "language_info": {
   "codemirror_mode": {
    "name": "ipython",
    "version": 3
   },
   "file_extension": ".py",
   "mimetype": "text/x-python",
   "name": "python",
   "nbconvert_exporter": "python",
   "pygments_lexer": "ipython3",
   "version": "3.10.2"
  },
  "orig_nbformat": 4
 },
 "nbformat": 4,
 "nbformat_minor": 2
}
